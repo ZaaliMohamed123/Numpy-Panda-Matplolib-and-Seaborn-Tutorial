{
  "nbformat": 4,
  "nbformat_minor": 0,
  "metadata": {
    "colab": {
      "provenance": []
    },
    "kernelspec": {
      "name": "python3",
      "display_name": "Python 3"
    }
  },
  "cells": [
    {
      "cell_type": "markdown",
      "metadata": {
        "id": "iQ-JMxBVZktU"
      },
      "source": [
        "***NumPy - Numerical Python***"
      ]
    },
    {
      "cell_type": "markdown",
      "metadata": {
        "id": "JPFcfoOkZl-W"
      },
      "source": [
        "Advantages of Numpy Arrays:\n",
        "\n",
        "1. Allows several Mathematical Operations\n",
        "2. Faster operations"
      ]
    },
    {
      "cell_type": "code",
      "metadata": {
        "id": "FKQ8J2p3XaCm"
      },
      "source": [
        "import numpy as np"
      ],
      "execution_count": null,
      "outputs": []
    },
    {
      "cell_type": "markdown",
      "metadata": {
        "id": "00t7Sra2dN6O"
      },
      "source": [
        "List vs Numpy - Time Taken"
      ]
    },
    {
      "cell_type": "code",
      "metadata": {
        "id": "ilCVM61ec41w"
      },
      "source": [
        "from time import process_time"
      ],
      "execution_count": null,
      "outputs": []
    },
    {
      "cell_type": "markdown",
      "metadata": {
        "id": "HeB32kledZGx"
      },
      "source": [
        "Time taken by a list"
      ]
    },
    {
      "cell_type": "code",
      "metadata": {
        "colab": {
          "base_uri": "https://localhost:8080/"
        },
        "id": "_dNK1wqEdXtu",
        "outputId": "b720205b-14b0-43d0-c1e4-5f9abb1600a0"
      },
      "source": [
        "python_list = [i for i in range(10000)]\n",
        "\n",
        "start_time = process_time()\n",
        "\n",
        "python_list = [i+5 for i in python_list]\n",
        "\n",
        "end_time = process_time()\n",
        "\n",
        "print(end_time - start_time)"
      ],
      "execution_count": null,
      "outputs": [
        {
          "output_type": "stream",
          "name": "stdout",
          "text": [
            "0.002204186999999802\n"
          ]
        }
      ]
    },
    {
      "cell_type": "code",
      "metadata": {
        "colab": {
          "base_uri": "https://localhost:8080/"
        },
        "id": "fCJjgEcJeFss",
        "outputId": "953fac92-a4a8-4aeb-be19-a72833cee1ea"
      },
      "source": [
        "np_array = np.array([i for i in range(10000)])\n",
        "\n",
        "start_time = process_time()\n",
        "\n",
        "np_array += 5\n",
        "\n",
        "end_time = process_time()\n",
        "\n",
        "print(end_time - start_time)"
      ],
      "execution_count": null,
      "outputs": [
        {
          "output_type": "stream",
          "name": "stdout",
          "text": [
            "0.00042786099999991833\n"
          ]
        }
      ]
    },
    {
      "cell_type": "markdown",
      "metadata": {
        "id": "ZuMfmL4ze2MM"
      },
      "source": [
        "Numpy Arrays"
      ]
    },
    {
      "cell_type": "code",
      "metadata": {
        "colab": {
          "base_uri": "https://localhost:8080/"
        },
        "id": "ALnk1TFGeozQ",
        "outputId": "a54353e0-6b06-4fe1-a860-13acb1d2ccf1"
      },
      "source": [
        "# list\n",
        "list1 = [1,2,3,4,5]\n",
        "print(list1)\n",
        "type(list1)"
      ],
      "execution_count": null,
      "outputs": [
        {
          "output_type": "stream",
          "name": "stdout",
          "text": [
            "[1, 2, 3, 4, 5]\n"
          ]
        },
        {
          "output_type": "execute_result",
          "data": {
            "text/plain": [
              "list"
            ]
          },
          "metadata": {},
          "execution_count": 5
        }
      ]
    },
    {
      "cell_type": "code",
      "metadata": {
        "colab": {
          "base_uri": "https://localhost:8080/"
        },
        "id": "0HHyvSq9fERJ",
        "outputId": "d084c1f4-7c8b-45e7-8622-74470694fa87"
      },
      "source": [
        "np_array = np.array([1,2,3,4,5])\n",
        "print(np_array)\n",
        "type(np_array)"
      ],
      "execution_count": null,
      "outputs": [
        {
          "output_type": "stream",
          "name": "stdout",
          "text": [
            "[1 2 3 4 5]\n"
          ]
        },
        {
          "output_type": "execute_result",
          "data": {
            "text/plain": [
              "numpy.ndarray"
            ]
          },
          "metadata": {},
          "execution_count": 6
        }
      ]
    },
    {
      "cell_type": "code",
      "metadata": {
        "colab": {
          "base_uri": "https://localhost:8080/"
        },
        "id": "K7OV29HvfTO1",
        "outputId": "1fee0877-1ff0-47aa-8577-e853580b0b2d"
      },
      "source": [
        "# creating a 1 dim array\n",
        "a = np.array([1,2,3,4])\n",
        "print(a)"
      ],
      "execution_count": null,
      "outputs": [
        {
          "output_type": "stream",
          "name": "stdout",
          "text": [
            "[1 2 3 4]\n"
          ]
        }
      ]
    },
    {
      "cell_type": "code",
      "metadata": {
        "colab": {
          "base_uri": "https://localhost:8080/"
        },
        "id": "ijT4obBQfiJn",
        "outputId": "b60b25bc-83cd-41db-9633-e991b43d40e1"
      },
      "source": [
        "# shape : will gives you the number of rows and columns\n",
        "a.shape"
      ],
      "execution_count": null,
      "outputs": [
        {
          "output_type": "execute_result",
          "data": {
            "text/plain": [
              "(4,)"
            ]
          },
          "metadata": {},
          "execution_count": 8
        }
      ]
    },
    {
      "cell_type": "code",
      "metadata": {
        "colab": {
          "base_uri": "https://localhost:8080/"
        },
        "id": "coB3eM3_flqI",
        "outputId": "3e141109-01d8-4162-d2a2-b0137653bb8e"
      },
      "source": [
        "# creating a 2 dimension array\n",
        "b = np.array([(1,2,3,4),(5,6,7,8)])\n",
        "print(b)"
      ],
      "execution_count": null,
      "outputs": [
        {
          "output_type": "stream",
          "name": "stdout",
          "text": [
            "[[1 2 3 4]\n",
            " [5 6 7 8]]\n"
          ]
        }
      ]
    },
    {
      "cell_type": "code",
      "metadata": {
        "colab": {
          "base_uri": "https://localhost:8080/"
        },
        "id": "27l557XbfvoC",
        "outputId": "6a49d82d-d303-4b78-8ed3-e3b6972e00bf"
      },
      "source": [
        "b.shape"
      ],
      "execution_count": null,
      "outputs": [
        {
          "output_type": "execute_result",
          "data": {
            "text/plain": [
              "(2, 4)"
            ]
          },
          "metadata": {},
          "execution_count": 10
        }
      ]
    },
    {
      "cell_type": "code",
      "metadata": {
        "colab": {
          "base_uri": "https://localhost:8080/"
        },
        "id": "3Pa0rTVTf1Xy",
        "outputId": "204957fd-07f6-4427-8002-884ba9d0da03"
      },
      "source": [
        "# dtype parameter uses to specify the data type of that array\n",
        "c = np.array([(1,2,3,4),(5,6,7,8)],dtype=float)\n",
        "print(c)"
      ],
      "execution_count": null,
      "outputs": [
        {
          "output_type": "stream",
          "name": "stdout",
          "text": [
            "[[1. 2. 3. 4.]\n",
            " [5. 6. 7. 8.]]\n"
          ]
        }
      ]
    },
    {
      "cell_type": "markdown",
      "metadata": {
        "id": "nKJIkHCugL78"
      },
      "source": [
        "Initial Placeholders in numpy arrays"
      ]
    },
    {
      "cell_type": "markdown",
      "source": [
        "initial placeholder means the initial values present in that particular numpy array"
      ],
      "metadata": {
        "id": "Ipfmd4IZ77Q-"
      }
    },
    {
      "cell_type": "code",
      "metadata": {
        "colab": {
          "base_uri": "https://localhost:8080/"
        },
        "id": "l1RUrtWmgGCc",
        "outputId": "81bf6a67-7971-4bf0-aec9-62892f77716e"
      },
      "source": [
        "# create a numpy array of Zeros\n",
        "x = np.zeros((4,5))\n",
        "print(x)"
      ],
      "execution_count": null,
      "outputs": [
        {
          "output_type": "stream",
          "name": "stdout",
          "text": [
            "[[0. 0. 0. 0. 0.]\n",
            " [0. 0. 0. 0. 0.]\n",
            " [0. 0. 0. 0. 0.]\n",
            " [0. 0. 0. 0. 0.]]\n"
          ]
        }
      ]
    },
    {
      "cell_type": "code",
      "metadata": {
        "colab": {
          "base_uri": "https://localhost:8080/"
        },
        "id": "tK7yGqeaghj8",
        "outputId": "5d9ab4d1-fb0e-43bc-c04d-fb412fc7f7db"
      },
      "source": [
        "# create a numpy array of ones\n",
        "y = np.ones((3,3))\n",
        "print(y)"
      ],
      "execution_count": null,
      "outputs": [
        {
          "output_type": "stream",
          "name": "stdout",
          "text": [
            "[[1. 1. 1.]\n",
            " [1. 1. 1.]\n",
            " [1. 1. 1.]]\n"
          ]
        }
      ]
    },
    {
      "cell_type": "code",
      "metadata": {
        "colab": {
          "base_uri": "https://localhost:8080/"
        },
        "id": "YpYSe_hogtfX",
        "outputId": "bc27123e-b1ff-4268-b938-ac74479bb256"
      },
      "source": [
        "# array of a particular value\n",
        "z = np.full((5,4),5)\n",
        "print(z)"
      ],
      "execution_count": null,
      "outputs": [
        {
          "output_type": "stream",
          "name": "stdout",
          "text": [
            "[[5 5 5 5]\n",
            " [5 5 5 5]\n",
            " [5 5 5 5]\n",
            " [5 5 5 5]\n",
            " [5 5 5 5]]\n"
          ]
        }
      ]
    },
    {
      "cell_type": "code",
      "metadata": {
        "colab": {
          "base_uri": "https://localhost:8080/"
        },
        "id": "7_qKF47Rg6OW",
        "outputId": "45a6f1e0-d218-412d-c976-b84daaf67d4d"
      },
      "source": [
        "# create an identity matrix\n",
        "a = np.eye(5)\n",
        "print(a)"
      ],
      "execution_count": null,
      "outputs": [
        {
          "output_type": "stream",
          "name": "stdout",
          "text": [
            "[[1. 0. 0. 0. 0.]\n",
            " [0. 1. 0. 0. 0.]\n",
            " [0. 0. 1. 0. 0.]\n",
            " [0. 0. 0. 1. 0.]\n",
            " [0. 0. 0. 0. 1.]]\n"
          ]
        }
      ]
    },
    {
      "cell_type": "code",
      "metadata": {
        "colab": {
          "base_uri": "https://localhost:8080/"
        },
        "id": "RGDDb3HXhRcp",
        "outputId": "9ca66381-aac6-4baa-f2da-2036dd9e05a6"
      },
      "source": [
        "# create a numpy array with random values\n",
        "b = np.random.random((3,4))\n",
        "print(b)"
      ],
      "execution_count": null,
      "outputs": [
        {
          "output_type": "stream",
          "name": "stdout",
          "text": [
            "[[0.68489392 0.25352763 0.5164079  0.5846446 ]\n",
            " [0.19119214 0.70512175 0.70097858 0.8374312 ]\n",
            " [0.23455987 0.2631089  0.25602684 0.00590504]]\n"
          ]
        }
      ]
    },
    {
      "cell_type": "code",
      "metadata": {
        "colab": {
          "base_uri": "https://localhost:8080/"
        },
        "id": "Qip1Wyr3hjL8",
        "outputId": "f06a4db7-2f97-49da-b683-43db9c31bbef"
      },
      "source": [
        "# random integer values array within a specific range\n",
        "c = np.random.randint(10,100,(3,5))\n",
        "print(c)"
      ],
      "execution_count": null,
      "outputs": [
        {
          "output_type": "stream",
          "name": "stdout",
          "text": [
            "[[94 97 81 94 41]\n",
            " [86 14 96 50 77]\n",
            " [61 87 91 55 93]]\n"
          ]
        }
      ]
    },
    {
      "cell_type": "code",
      "metadata": {
        "colab": {
          "base_uri": "https://localhost:8080/"
        },
        "id": "vmBRXUW9h8l2",
        "outputId": "76f2a129-f3da-4f5f-f79f-577644943c03"
      },
      "source": [
        "# array of evenly spaced values --> specifying the number of values required\n",
        "d = np.linspace(10,30,5)\n",
        "print(d)"
      ],
      "execution_count": null,
      "outputs": [
        {
          "output_type": "stream",
          "name": "stdout",
          "text": [
            "[10. 15. 20. 25. 30.]\n"
          ]
        }
      ]
    },
    {
      "cell_type": "code",
      "metadata": {
        "colab": {
          "base_uri": "https://localhost:8080/"
        },
        "id": "mWQxXFYViQhn",
        "outputId": "4d473f4f-2b69-423d-815f-ac6fd7141a54"
      },
      "source": [
        "# array of evenly spaced values --> specifying the step\n",
        "e = np.arange(10,30,5)\n",
        "print(e)"
      ],
      "execution_count": null,
      "outputs": [
        {
          "output_type": "stream",
          "name": "stdout",
          "text": [
            "[10 15 20 25]\n"
          ]
        }
      ]
    },
    {
      "cell_type": "code",
      "metadata": {
        "colab": {
          "base_uri": "https://localhost:8080/"
        },
        "id": "X6Y2SwSHio60",
        "outputId": "574446d8-d664-48ea-d3bf-e2b662f4d234"
      },
      "source": [
        "# convert a list to a numpy array\n",
        "list2 = [10,20,20,20,50]\n",
        "\n",
        "np_array = np.asarray(list2)\n",
        "print(np_array)\n",
        "type(np_array)"
      ],
      "execution_count": null,
      "outputs": [
        {
          "output_type": "stream",
          "name": "stdout",
          "text": [
            "[10 20 20 20 50]\n"
          ]
        },
        {
          "output_type": "execute_result",
          "data": {
            "text/plain": [
              "numpy.ndarray"
            ]
          },
          "metadata": {},
          "execution_count": 20
        }
      ]
    },
    {
      "cell_type": "markdown",
      "metadata": {
        "id": "_SCNSk4njMtR"
      },
      "source": [
        "Analysing a numpy array"
      ]
    },
    {
      "cell_type": "code",
      "metadata": {
        "colab": {
          "base_uri": "https://localhost:8080/"
        },
        "id": "acjKBd9kjFQ5",
        "outputId": "cc8fa226-6e4e-4f83-d8d6-e7e11292e49a"
      },
      "source": [
        "c = np.random.randint(10,90,(5,5))\n",
        "print(c)"
      ],
      "execution_count": null,
      "outputs": [
        {
          "output_type": "stream",
          "name": "stdout",
          "text": [
            "[[23 10 82 52 67]\n",
            " [28 24 63 47 58]\n",
            " [85 12 25 33 52]\n",
            " [57 86 84 71 16]\n",
            " [34 41 14 78 66]]\n"
          ]
        }
      ]
    },
    {
      "cell_type": "code",
      "metadata": {
        "colab": {
          "base_uri": "https://localhost:8080/"
        },
        "id": "1ANEENVljXww",
        "outputId": "fa42eca0-5994-48a3-f54c-def47969ddbf"
      },
      "source": [
        "# array dimension\n",
        "print(c.shape)"
      ],
      "execution_count": null,
      "outputs": [
        {
          "output_type": "stream",
          "name": "stdout",
          "text": [
            "(5, 5)\n"
          ]
        }
      ]
    },
    {
      "cell_type": "code",
      "metadata": {
        "colab": {
          "base_uri": "https://localhost:8080/"
        },
        "id": "QNEc5GKOje1F",
        "outputId": "14f9f06f-ffb9-4bf8-c241-3e31c5840db7"
      },
      "source": [
        "# number of dimensions\n",
        "print(c.ndim)"
      ],
      "execution_count": null,
      "outputs": [
        {
          "output_type": "stream",
          "name": "stdout",
          "text": [
            "2\n"
          ]
        }
      ]
    },
    {
      "cell_type": "code",
      "metadata": {
        "colab": {
          "base_uri": "https://localhost:8080/"
        },
        "id": "u0keyHukjlNp",
        "outputId": "ea1209b5-a1eb-4974-9cc3-c2d9b8409c17"
      },
      "source": [
        "# number of elements in an array\n",
        "print(c.size)"
      ],
      "execution_count": null,
      "outputs": [
        {
          "output_type": "stream",
          "name": "stdout",
          "text": [
            "25\n"
          ]
        }
      ]
    },
    {
      "cell_type": "code",
      "metadata": {
        "colab": {
          "base_uri": "https://localhost:8080/"
        },
        "id": "nMV1h5NwjuQ-",
        "outputId": "ac665bea-11a2-4739-a129-d0f7ef6fe971"
      },
      "source": [
        "# checking the data type of the values in the array\n",
        "print(c.dtype)"
      ],
      "execution_count": null,
      "outputs": [
        {
          "output_type": "stream",
          "name": "stdout",
          "text": [
            "int64\n"
          ]
        }
      ]
    },
    {
      "cell_type": "markdown",
      "metadata": {
        "id": "EjUgn_Okj8uc"
      },
      "source": [
        "Mathematical operations on a np array"
      ]
    },
    {
      "cell_type": "code",
      "metadata": {
        "colab": {
          "base_uri": "https://localhost:8080/"
        },
        "id": "bPfwfe-Dj3Vl",
        "outputId": "fe8f6371-0dec-4635-8961-b749df71aab7"
      },
      "source": [
        "list1 = [1,2,3,4,5]\n",
        "list2 = [6,7,8,9,10]\n",
        "\n",
        "print(list1 + list2)    # concatenate or joins two list"
      ],
      "execution_count": null,
      "outputs": [
        {
          "output_type": "stream",
          "name": "stdout",
          "text": [
            "[1, 2, 3, 4, 5, 6, 7, 8, 9, 10]\n"
          ]
        }
      ]
    },
    {
      "cell_type": "code",
      "metadata": {
        "id": "t6TmaVFCkKqq"
      },
      "source": [
        "a = np.random.randint(0,10,(3,3))\n",
        "b = np.random.randint(10,20,(3,3))"
      ],
      "execution_count": null,
      "outputs": []
    },
    {
      "cell_type": "code",
      "metadata": {
        "colab": {
          "base_uri": "https://localhost:8080/"
        },
        "id": "cZqQPRF_klJZ",
        "outputId": "1d67db90-96f9-4a4a-95fb-cc65ccb3344d"
      },
      "source": [
        "print(a)\n",
        "print(b)"
      ],
      "execution_count": null,
      "outputs": [
        {
          "output_type": "stream",
          "name": "stdout",
          "text": [
            "[[2 3 4]\n",
            " [1 0 1]\n",
            " [9 7 3]]\n",
            "[[10 13 10]\n",
            " [16 19 10]\n",
            " [10 19 17]]\n"
          ]
        }
      ]
    },
    {
      "cell_type": "code",
      "metadata": {
        "colab": {
          "base_uri": "https://localhost:8080/"
        },
        "id": "5Hk6D3LNkn1S",
        "outputId": "b5dba55f-59b6-4b87-fef8-bc5fead9a753"
      },
      "source": [
        "print(a+b)\n",
        "print(a-b)\n",
        "print(a*b)\n",
        "print(a/b)"
      ],
      "execution_count": null,
      "outputs": [
        {
          "output_type": "stream",
          "name": "stdout",
          "text": [
            "[[12 16 14]\n",
            " [17 19 11]\n",
            " [19 26 20]]\n",
            "[[ -8 -10  -6]\n",
            " [-15 -19  -9]\n",
            " [ -1 -12 -14]]\n",
            "[[ 20  39  40]\n",
            " [ 16   0  10]\n",
            " [ 90 133  51]]\n",
            "[[0.2        0.23076923 0.4       ]\n",
            " [0.0625     0.         0.1       ]\n",
            " [0.9        0.36842105 0.17647059]]\n"
          ]
        }
      ]
    },
    {
      "cell_type": "code",
      "metadata": {
        "id": "WGH-A2g5lDYa"
      },
      "source": [
        "a = np.random.randint(0,10,(3,3))\n",
        "b = np.random.randint(10,20,(3,3))"
      ],
      "execution_count": null,
      "outputs": []
    },
    {
      "cell_type": "code",
      "metadata": {
        "colab": {
          "base_uri": "https://localhost:8080/"
        },
        "id": "CBKsnb4olFTK",
        "outputId": "591876c3-f94f-4ff1-d67e-29b591b9cd08"
      },
      "source": [
        "print(a)\n",
        "print(b)"
      ],
      "execution_count": null,
      "outputs": [
        {
          "output_type": "stream",
          "name": "stdout",
          "text": [
            "[[1 1 3]\n",
            " [6 4 3]\n",
            " [1 5 7]]\n",
            "[[13 10 18]\n",
            " [14 11 13]\n",
            " [11 16 16]]\n"
          ]
        }
      ]
    },
    {
      "cell_type": "code",
      "metadata": {
        "colab": {
          "base_uri": "https://localhost:8080/"
        },
        "id": "SbHjIBVyk22r",
        "outputId": "ec91a0a0-7f61-405a-e2fe-d26b7bd4c4b3"
      },
      "source": [
        "print(np.add(a,b))\n",
        "print(np.subtract(a,b))\n",
        "print(np.multiply(a,b))\n",
        "print(np.divide(a,b))"
      ],
      "execution_count": null,
      "outputs": [
        {
          "output_type": "stream",
          "name": "stdout",
          "text": [
            "[[14 11 21]\n",
            " [20 15 16]\n",
            " [12 21 23]]\n",
            "[[-12  -9 -15]\n",
            " [ -8  -7 -10]\n",
            " [-10 -11  -9]]\n",
            "[[ 13  10  54]\n",
            " [ 84  44  39]\n",
            " [ 11  80 112]]\n",
            "[[0.07692308 0.1        0.16666667]\n",
            " [0.42857143 0.36363636 0.23076923]\n",
            " [0.09090909 0.3125     0.4375    ]]\n"
          ]
        }
      ]
    },
    {
      "cell_type": "markdown",
      "metadata": {
        "id": "DJ572KZIlZdb"
      },
      "source": [
        "Array Manipulation"
      ]
    },
    {
      "cell_type": "code",
      "metadata": {
        "colab": {
          "base_uri": "https://localhost:8080/"
        },
        "id": "v4u38bHwlYu2",
        "outputId": "cfcdba4c-0fa4-40a3-c5de-9fbfae43752a"
      },
      "source": [
        "array = np.random.randint(0,10,(2,3))\n",
        "print(array)\n",
        "print(array.shape)"
      ],
      "execution_count": null,
      "outputs": [
        {
          "output_type": "stream",
          "name": "stdout",
          "text": [
            "[[9 2 4]\n",
            " [0 2 0]]\n",
            "(2, 3)\n"
          ]
        }
      ]
    },
    {
      "cell_type": "code",
      "metadata": {
        "colab": {
          "base_uri": "https://localhost:8080/"
        },
        "id": "_AA0D3sPlUDw",
        "outputId": "87b4c215-d319-4f97-e719-eae8ea4cc572"
      },
      "source": [
        "# transpose\n",
        "trans = np.transpose(array)\n",
        "print(trans)\n",
        "print(trans.shape)"
      ],
      "execution_count": null,
      "outputs": [
        {
          "output_type": "stream",
          "name": "stdout",
          "text": [
            "[[9 0]\n",
            " [2 2]\n",
            " [4 0]]\n",
            "(3, 2)\n"
          ]
        }
      ]
    },
    {
      "cell_type": "code",
      "metadata": {
        "colab": {
          "base_uri": "https://localhost:8080/"
        },
        "id": "Gi89eXMZlxSR",
        "outputId": "67d6ac03-da4b-4707-b4c9-cb801786bc91"
      },
      "source": [
        "array = np.random.randint(0,10,(2,3))\n",
        "print(array)\n",
        "print(array.shape)"
      ],
      "execution_count": null,
      "outputs": [
        {
          "output_type": "stream",
          "name": "stdout",
          "text": [
            "[[6 5 9]\n",
            " [8 2 3]]\n",
            "(2, 3)\n"
          ]
        }
      ]
    },
    {
      "cell_type": "code",
      "metadata": {
        "colab": {
          "base_uri": "https://localhost:8080/"
        },
        "id": "uygDrgUgl2la",
        "outputId": "1b424217-8c2e-489b-d264-5a839671bc4a"
      },
      "source": [
        "# transpose other method\n",
        "trans2 = array.T\n",
        "print(trans2)\n",
        "print(trans2.shape)"
      ],
      "execution_count": null,
      "outputs": [
        {
          "output_type": "stream",
          "name": "stdout",
          "text": [
            "[[6 8]\n",
            " [5 2]\n",
            " [9 3]]\n",
            "(3, 2)\n"
          ]
        }
      ]
    },
    {
      "cell_type": "code",
      "metadata": {
        "colab": {
          "base_uri": "https://localhost:8080/"
        },
        "id": "h4DCLsCemAw4",
        "outputId": "30a082e1-7c8c-42b3-9c0a-e36fcaa8177a"
      },
      "source": [
        "# reshaping a array\n",
        "a = np.random.randint(0,10,(2,3))\n",
        "print(a)\n",
        "print(a.shape)"
      ],
      "execution_count": null,
      "outputs": [
        {
          "output_type": "stream",
          "name": "stdout",
          "text": [
            "[[8 2 2]\n",
            " [4 6 4]]\n",
            "(2, 3)\n"
          ]
        }
      ]
    },
    {
      "cell_type": "code",
      "metadata": {
        "colab": {
          "base_uri": "https://localhost:8080/"
        },
        "id": "blUvf7PHmOAl",
        "outputId": "19191397-11d8-4afc-ff5a-ec54c929cd29"
      },
      "source": [
        "b = a.reshape(3,2)\n",
        "print(b)\n",
        "print(b.shape)"
      ],
      "execution_count": null,
      "outputs": [
        {
          "output_type": "stream",
          "name": "stdout",
          "text": [
            "[[8 2]\n",
            " [2 4]\n",
            " [6 4]]\n",
            "(3, 2)\n"
          ]
        }
      ]
    },
    {
      "cell_type": "code",
      "source": [
        "c = a.reshape(6)\n",
        "print(c)\n",
        "print(c.shape)"
      ],
      "metadata": {
        "colab": {
          "base_uri": "https://localhost:8080/"
        },
        "id": "wy_Iz4ZSAxP0",
        "outputId": "6f2c1556-7f22-413a-92a6-2a2230d336b4"
      },
      "execution_count": null,
      "outputs": [
        {
          "output_type": "stream",
          "name": "stdout",
          "text": [
            "[8 2 2 4 6 4]\n",
            "(6,)\n"
          ]
        }
      ]
    },
    {
      "cell_type": "code",
      "source": [
        "d = a.reshape((1,2,3))\n",
        "print(d)\n",
        "print(d.shape)"
      ],
      "metadata": {
        "id": "YFKYk__rA2oA",
        "colab": {
          "base_uri": "https://localhost:8080/"
        },
        "outputId": "49cc6e97-fe4a-4bf1-bd6f-71c215cebef1"
      },
      "execution_count": null,
      "outputs": [
        {
          "output_type": "stream",
          "name": "stdout",
          "text": [
            "[[[8 2 2]\n",
            "  [4 6 4]]]\n",
            "(1, 2, 3)\n"
          ]
        }
      ]
    }
  ]
}